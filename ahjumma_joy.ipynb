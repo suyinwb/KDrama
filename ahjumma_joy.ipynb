{
 "cells": [
  {
   "cell_type": "code",
   "execution_count": 39,
   "id": "7e413728",
   "metadata": {},
   "outputs": [],
   "source": [
    "# Import Splinter and BeautifulSoup\n",
    "from splinter import Browser\n",
    "from bs4 import BeautifulSoup as soup\n",
    "from webdriver_manager.chrome import ChromeDriverManager\n",
    "\n",
    "import requests\n",
    "import csv\n",
    "import re\n",
    "\n",
    "#URLS EXPLORATION\n",
    "#full_url = f'https://mydramalist.com/{d_url}'\n",
    "#stats_url = f'https://mydramalist.com/{d_url}/statistics'"
   ]
  },
  {
   "cell_type": "code",
   "execution_count": 40,
   "id": "8a69f466",
   "metadata": {},
   "outputs": [
    {
     "name": "stderr",
     "output_type": "stream",
     "text": [
      "\n",
      "\n",
      "====== WebDriver manager ======\n",
      "Current google-chrome version is 97.0.4692\n",
      "Get LATEST chromedriver version for 97.0.4692 google-chrome\n",
      "Driver [/Users/vuvie/.wdm/drivers/chromedriver/mac64/97.0.4692.71/chromedriver] found in cache\n"
     ]
    }
   ],
   "source": [
    "executable_path = {'executable_path': ChromeDriverManager().install()}\n",
    "browser = Browser('chrome', **executable_path, headless=False)"
   ]
  },
  {
   "cell_type": "code",
   "execution_count": 41,
   "id": "076da83a",
   "metadata": {},
   "outputs": [],
   "source": [
    "# Visit mydramalist \n",
    "url = 'https://mydramalist.com'\n",
    "#browser.visit(url)\n",
    "# Optional delay for loading the page\n",
    "#browser.is_element_present_by_css('div.b-primary', wait_time=1)"
   ]
  },
  {
   "cell_type": "code",
   "execution_count": 8,
   "id": "44dfaf25",
   "metadata": {},
   "outputs": [
    {
     "name": "stdout",
     "output_type": "stream",
     "text": [
      "/18452-goblin\n",
      "/18894-strong-woman-do-bong-soon\n",
      "/10904-descendants-of-the-sun\n",
      "/19262-weightlifting-fairy-kim-bok-joo\n",
      "/16589-w\n",
      "/2987-boys-over-flowers\n",
      "/27885-why-secretary-kim\n",
      "/6640-the-heirs\n",
      "/7398-you-who-came-from-the-stars\n",
      "/21576-while-you-were-sleeping\n",
      "/35729-emergency-lands-of-love\n",
      "/49865-psycho-but-it-s-okay\n",
      "/11074-pinocchio\n",
      "/10814-healer\n",
      "/15999-moon-lovers-scarlet-heart-ryeo\n",
      "/32925-hotel-del-luna\n",
      "/18816-the-legend-of-the-blue-sea\n",
      "/24351-im-not-a-robot\n",
      "/22472-fight-for-my-way\n",
      "/10873-kill-me-heal-me\n"
     ]
    }
   ],
   "source": [
    "urlpath=[]\n",
    "#for x in range(1, 251):\n",
    "for x in range(1, 2):\n",
    "    pagination = f'{url}/shows/popular?page={x}'\n",
    "    browser.visit(pagination)\n",
    "    browser.is_element_present_by_css('div.b-primary', wait_time=1)\n",
    "    html = browser.html\n",
    "    drama_soup = soup(html, 'html.parser')\n",
    "    slide_elem = drama_soup.select('div.content')\n",
    "    for each in slide_elem:\n",
    "        #title = each.find('a').get_text()\n",
    "        d_url = each.find('a').get('href')\n",
    "        #print(title)\n",
    "        print(d_url)\n",
    "        urlpath.append(d_url)"
   ]
  },
  {
   "cell_type": "code",
   "execution_count": 42,
   "id": "fbc7b34a",
   "metadata": {},
   "outputs": [],
   "source": [
    "# Later to add loop as below\n",
    "#LOOP FOR ALL URL IN THE list urlpath.\n",
    "#each_url = f'{url}{urlpath}'\n",
    "each_url = f'{url}/18452-goblin/'\n",
    "#for urls in urlpath:\n",
    "browser.visit(each_url)\n",
    "browser.is_element_present_by_css('div.mdl-component', wait_time=1)\n",
    "html = browser.html\n",
    "#each_soup = soup(html, 'html.parser')\n",
    "each_soup = soup(html, 'lxml')\n",
    "#slide_elem = each_soup.select('div.data-component')\n"
   ]
  },
  {
   "cell_type": "code",
   "execution_count": 43,
   "id": "ff398665",
   "metadata": {},
   "outputs": [
    {
     "name": "stdout",
     "output_type": "stream",
     "text": [
      "Goblin\n",
      "southkorea\n",
      "16\n",
      "2016 \n",
      "Friday,Saturday\n",
      "tvN\n",
      "1hr.22min.\n",
      "15+\n"
     ]
    }
   ],
   "source": [
    "## First box to scrape\n",
    "\n",
    "#left column in a 2 column page\n",
    "drill_first = each_soup.find('div' , class_='col-md-4')\n",
    "\n",
    "t_elem0 = drill_first.select('div' , class_='m-b-0')[0]\n",
    "#print(t_elem)\n",
    "el1 = t_elem0.select('li', class_='p-a-0')[0]\n",
    "#title = el.findChildren('span')\n",
    "title = el1.find('span').get_text()\n",
    "print(title)\n",
    "\n",
    "el2 = t_elem0.select('li', class_='p-a-0')[1]\n",
    "country = el2.get_text().split(':')[1].replace(' ','').lower()\n",
    "print(country)\n",
    "\n",
    "el3 = t_elem0.select('li', class_='p-a-0')[2]\n",
    "episodes = el3.get_text().split(':')[1].replace(' ','')\n",
    "print(episodes)\n",
    "\n",
    "el4 = t_elem0.select('li', class_='p-a-0')[3]\n",
    "year = el4.get_text().split(', ')[1].split('-')[0]\n",
    "print(year)\n",
    "\n",
    "el5 = t_elem0.select('li', class_='p-a-0')[4]\n",
    "aired = el5.get_text().split(':')[1].replace(' ','')\n",
    "print(aired)\n",
    "\n",
    "el6 = t_elem0.select('li', class_='p-a-0')[5]\n",
    "network = el6.find('a').get_text()\n",
    "print(network)\n",
    "\n",
    "el7 = t_elem0.select('li', class_='p-a-0')[6]\n",
    "duration = el7.get_text().split(':')[1].replace(' ','')\n",
    "print(duration)\n",
    "\n",
    "el8 = t_elem0.select('li', class_='p-a-0')[7]\n",
    "content_rating = el8.get_text().split(' ')[2]\n",
    "print(content_rating)"
   ]
  },
  {
   "cell_type": "code",
   "execution_count": 44,
   "id": "43328656",
   "metadata": {},
   "outputs": [
    {
     "name": "stdout",
     "output_type": "stream",
     "text": [
      "8.9\n",
      "80121\n",
      "47\n",
      "1\n",
      "150415\n"
     ]
    }
   ],
   "source": [
    "## Second box to scrape\n",
    "\n",
    "t_elem1 = drill_first.select('ul' , class_='m-b-0')[1]\n",
    "second_el1 = t_elem1.select('li', class_='p-a-0')[0]\n",
    "user_rating = second_el1.get_text().split(' ')[1]\n",
    "print(user_rating)\n",
    "total_critics = second_el1.find('span').get_text().split(' ')[2].replace(',','')\n",
    "print(total_critics)\n",
    "\n",
    "\n",
    "\n",
    "second_el2 = t_elem1.select('li', class_='p-a-0')[1]\n",
    "ranking = second_el2.get_text().split('#')[1]\n",
    "print(ranking)\n",
    "\n",
    "#total_critics = second_el1.find('span').get_text()\n",
    "#print(total_critics)\n",
    "\n",
    "\n",
    "second_el3 = t_elem1.select('li', class_='p-a-0')[2]\n",
    "popularity = second_el3.get_text().split('#')[1]\n",
    "print(popularity)\n",
    "\n",
    "second_el4 = t_elem1.select('li', class_='p-a-0')[3]\n",
    "watchers = second_el4.get_text().split(' ')[1].replace(',','')\n",
    "print(watchers)"
   ]
  },
  {
   "cell_type": "code",
   "execution_count": 45,
   "id": "92b94458",
   "metadata": {},
   "outputs": [
    {
     "name": "stdout",
     "output_type": "stream",
     "text": [
      "도깨비\n",
      "쓸쓸하고 찬란하神-도깨비 |  Dokkaebi |  Sseulsseulhago Chalranhashin-Dokkaebi |  The Lonely| Shining Goblin |  Guardian: The Lonely and Great God |  Goblin: The Story of an Eternal| Great God Who Falls in Love |  Goblin: The Lonely and Great God  \n",
      "Kim Eun Sook \n",
      "Lee Eung Bok \n",
      "Comedy|  Romance|  Fantasy|  Melodrama \n",
      "Supernatural| Grim Reaper| Older Man/Younger Woman| Interspecies Romance| Dokkaebi| Fate| Tearjerker| Bromance| Death| Heartfelt (Vote or add tags) \n"
     ]
    }
   ],
   "source": [
    "## Third box to scrape\n",
    "\n",
    "drill_second = each_soup.find('div' , class_='col-rightx')\n",
    "\n",
    "t_elem2 = drill_second.select('div' , class_='show-detailsxss')[0]\n",
    "#<ul class=\"list m-a-0\">  \n",
    "drill_t2 = t_elem2.select('ul', class_='m-a-0')\n",
    "#print('===========================')\n",
    "third_el1 = t_elem2.select('li', class_='p-a-0')[13]\n",
    "native_title = third_el1.get_text().split(': ')[1]\n",
    "print(native_title)\n",
    "\n",
    "third_el2 = t_elem2.select('li', class_='p-a-0')[14]\n",
    "other_title = third_el2.get_text().split(':  ')[1].replace(',','|')\n",
    "print(other_title)\n",
    "\n",
    "third_el3 = t_elem2.select('li', class_='p-a-0')[15]\n",
    "writer = third_el3.get_text().split(': ')[1].replace(',','|')\n",
    "print(writer)\n",
    "\n",
    "third_el4 = t_elem2.select('li', class_='p-a-0')[16]\n",
    "director = third_el4.get_text().split(': ')[1].replace(',','|')\n",
    "print(director)\n",
    "\n",
    "third_el5 = t_elem2.select('li', class_='p-a-0')[17]\n",
    "genres = third_el5.get_text().split(': ')[1].replace(',','|')\n",
    "print(genres)\n",
    "\n",
    "third_el6 = t_elem2.select('li', class_='p-a-0')[18]\n",
    "genres = third_el6.get_text().split(': ')[1].replace(',','|')\n",
    "print(genres)"
   ]
  },
  {
   "cell_type": "code",
   "execution_count": 46,
   "id": "1988b06d",
   "metadata": {},
   "outputs": [],
   "source": [
    "#Where to watch\n",
    "#<div class=\"row\">  <div class=\"col-xs-4 col-lg-4 m-b-sm\"> <div class=\"row no-gutter\">"
   ]
  },
  {
   "cell_type": "code",
   "execution_count": 51,
   "id": "029a8393",
   "metadata": {},
   "outputs": [
    {
     "name": "stdout",
     "output_type": "stream",
     "text": [
      "['Gong Yoo', 'Kim Go Eun', 'Lee Dong Wook', 'Yoo In Na', 'Yook Sung Jae']\n",
      "['Lee El']\n"
     ]
    }
   ],
   "source": [
    "#Actors \n",
    "#<div class=\"p-a-sm\"> \n",
    "\n",
    "drill_third = each_soup.find('div' , class_='p-a-sm')\n",
    "\n",
    "#<li class=\"list-item col-sm-4\">\n",
    "t_elem3 = drill_third.select('li' , class_='col-sm-4')\n",
    "\n",
    "main_actor = []\n",
    "support_actor = []\n",
    "for x in range(0, 6):\n",
    "    #<div class=\"text-ellipsis\"> \n",
    "    drill_t3 = t_elem3[x].select('div', class_='text-ellipsis')[1]\n",
    "    #print(drill_t3)\n",
    "    #<small class=\"text-muted\">\n",
    "    role = drill_t3.select('small' , class_='text-muted')[1]\n",
    "    role = role.get_text()\n",
    "    #print(role)\n",
    "    \n",
    "    name = drill_t3.find('b')\n",
    "    \n",
    "    if role == 'Main Role':\n",
    "        main = name.get_text()\n",
    "        #print(main)\n",
    "        main_actor.append(main)\n",
    "    elif role == 'Support Role':\n",
    "        support = name.get_text()\n",
    "        #print(support)\n",
    "        support_actor.append(support)\n",
    "\n",
    "#main_actor = drill_t3.get_text()\n",
    "print(main_actor)\n",
    "print(support_actor)"
   ]
  },
  {
   "cell_type": "code",
   "execution_count": null,
   "id": "815ec7f8",
   "metadata": {},
   "outputs": [],
   "source": []
  },
  {
   "cell_type": "code",
   "execution_count": null,
   "id": "de8dbb18",
   "metadata": {},
   "outputs": [],
   "source": []
  },
  {
   "cell_type": "code",
   "execution_count": null,
   "id": "293e97f3",
   "metadata": {},
   "outputs": [],
   "source": []
  },
  {
   "cell_type": "code",
   "execution_count": null,
   "id": "2882168f",
   "metadata": {},
   "outputs": [],
   "source": []
  },
  {
   "cell_type": "code",
   "execution_count": null,
   "id": "c4f76606",
   "metadata": {},
   "outputs": [],
   "source": []
  },
  {
   "cell_type": "code",
   "execution_count": null,
   "id": "edfbda54",
   "metadata": {},
   "outputs": [],
   "source": []
  },
  {
   "cell_type": "code",
   "execution_count": null,
   "id": "30c2732d",
   "metadata": {},
   "outputs": [],
   "source": []
  },
  {
   "cell_type": "code",
   "execution_count": null,
   "id": "a618579e",
   "metadata": {},
   "outputs": [],
   "source": []
  },
  {
   "cell_type": "code",
   "execution_count": null,
   "id": "c190c3eb",
   "metadata": {},
   "outputs": [],
   "source": []
  },
  {
   "cell_type": "code",
   "execution_count": null,
   "id": "1f54ddbf",
   "metadata": {},
   "outputs": [],
   "source": []
  },
  {
   "cell_type": "code",
   "execution_count": null,
   "id": "a6e11685",
   "metadata": {},
   "outputs": [],
   "source": []
  },
  {
   "cell_type": "code",
   "execution_count": null,
   "id": "a7c0108d",
   "metadata": {},
   "outputs": [],
   "source": []
  }
 ],
 "metadata": {
  "kernelspec": {
   "display_name": "PythonData",
   "language": "python",
   "name": "pythondata"
  },
  "language_info": {
   "codemirror_mode": {
    "name": "ipython",
    "version": 3
   },
   "file_extension": ".py",
   "mimetype": "text/x-python",
   "name": "python",
   "nbconvert_exporter": "python",
   "pygments_lexer": "ipython3",
   "version": "3.6.10"
  }
 },
 "nbformat": 4,
 "nbformat_minor": 5
}
